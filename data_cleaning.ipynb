{
 "cells": [
  {
   "cell_type": "markdown",
   "metadata": {},
   "source": [
    "# DATA INSERTION"
   ]
  },
  {
   "cell_type": "code",
   "execution_count": 1,
   "metadata": {},
   "outputs": [
    {
     "name": "stdout",
     "output_type": "stream",
     "text": [
      "Files in ZIP archive: ['test.csv', 'train.csv']\n"
     ]
    },
    {
     "name": "stderr",
     "output_type": "stream",
     "text": [
      "C:\\Users\\Usuario\\AppData\\Local\\Temp\\ipykernel_16792\\1031665088.py:14: DtypeWarning: Columns (23) have mixed types. Specify dtype option on import or set low_memory=False.\n",
      "  train_data = pd.read_csv(train_file)\n",
      "C:\\Users\\Usuario\\AppData\\Local\\Temp\\ipykernel_16792\\1031665088.py:17: DtypeWarning: Columns (22) have mixed types. Specify dtype option on import or set low_memory=False.\n",
      "  test_data = pd.read_csv(test_file)\n"
     ]
    }
   ],
   "source": [
    "import pandas as pd\n",
    "import zipfile\n",
    "\n",
    "# Define the ZIP file path\n",
    "zip_file_path = \"data_files.zip\"  # Replace with the path to your ZIP file\n",
    "\n",
    "# Open the ZIP file\n",
    "with zipfile.ZipFile(zip_file_path, 'r') as zip_ref:\n",
    "    # List all files in the ZIP archive (for debugging or verification)\n",
    "    print(\"Files in ZIP archive:\", zip_ref.namelist())\n",
    "    \n",
    "    # Open CSV files directly\n",
    "    with zip_ref.open(\"train.csv\") as train_file:\n",
    "        train_data = pd.read_csv(train_file)\n",
    "    \n",
    "    with zip_ref.open(\"test.csv\") as test_file:\n",
    "        test_data = pd.read_csv(test_file)\n",
    "\n"
   ]
  },
  {
   "cell_type": "code",
   "execution_count": 2,
   "metadata": {},
   "outputs": [
    {
     "name": "stdout",
     "output_type": "stream",
     "text": [
      "Train Data:\n",
      "<class 'pandas.core.frame.DataFrame'>\n",
      "RangeIndex: 107437 entries, 0 to 107436\n",
      "Data columns (total 55 columns):\n",
      " #   Column                                  Non-Null Count   Dtype  \n",
      "---  ------                                  --------------   -----  \n",
      " 0   Characteristics.LotFeatures             42020 non-null   object \n",
      " 1   Characteristics.LotSizeSquareFeet       1690 non-null    float64\n",
      " 2   ImageData.c1c6.summary.bathroom         90744 non-null   float64\n",
      " 3   ImageData.c1c6.summary.exterior         87789 non-null   float64\n",
      " 4   ImageData.c1c6.summary.interior         93597 non-null   float64\n",
      " 5   ImageData.c1c6.summary.kitchen          92320 non-null   float64\n",
      " 6   ImageData.c1c6.summary.property         103055 non-null  float64\n",
      " 7   ImageData.features_reso.results         104780 non-null  object \n",
      " 8   ImageData.q1q6.summary.bathroom         90708 non-null   float64\n",
      " 9   ImageData.q1q6.summary.exterior         82565 non-null   float64\n",
      " 10  ImageData.q1q6.summary.interior         93589 non-null   float64\n",
      " 11  ImageData.q1q6.summary.kitchen          92292 non-null   float64\n",
      " 12  ImageData.q1q6.summary.property         101798 non-null  float64\n",
      " 13  ImageData.room_type_reso.results        106874 non-null  object \n",
      " 14  ImageData.style.exterior.summary.label  83573 non-null   object \n",
      " 15  ImageData.style.stories.summary.label   83351 non-null   object \n",
      " 16  Listing.Dates.CloseDate                 107437 non-null  object \n",
      " 17  Listing.ListingId                       107437 non-null  object \n",
      " 18  Listing.Price.ClosePrice                107437 non-null  float64\n",
      " 19  Location.Address.CensusBlock            100440 non-null  object \n",
      " 20  Location.Address.CensusTract            100440 non-null  object \n",
      " 21  Location.Address.City                   107437 non-null  object \n",
      " 22  Location.Address.CountyOrParish         106824 non-null  object \n",
      " 23  Location.Address.PostalCode             107437 non-null  object \n",
      " 24  Location.Address.PostalCodePlus4        3271 non-null    object \n",
      " 25  Location.Address.StateOrProvince        107437 non-null  object \n",
      " 26  Location.Address.StreetDirectionPrefix  48694 non-null   object \n",
      " 27  Location.Address.StreetDirectionSuffix  641 non-null     object \n",
      " 28  Location.Address.StreetName             107433 non-null  object \n",
      " 29  Location.Address.StreetNumber           107412 non-null  object \n",
      " 30  Location.Address.StreetSuffix           106074 non-null  object \n",
      " 31  Location.Address.UnitNumber             24543 non-null   object \n",
      " 32  Location.Address.UnparsedAddress        107437 non-null  object \n",
      " 33  Location.Area.SubdivisionName           36541 non-null   object \n",
      " 34  Location.GIS.Latitude                   100440 non-null  float64\n",
      " 35  Location.GIS.Longitude                  100440 non-null  float64\n",
      " 36  Location.School.HighSchoolDistrict      105255 non-null  object \n",
      " 37  Property.PropertyType                   107437 non-null  object \n",
      " 38  Structure.Basement                      102828 non-null  object \n",
      " 39  Structure.BathroomsFull                 100063 non-null  float64\n",
      " 40  Structure.BathroomsHalf                 100049 non-null  float64\n",
      " 41  Structure.BedroomsTotal                 105024 non-null  float64\n",
      " 42  Structure.BelowGradeFinishedArea        14235 non-null   float64\n",
      " 43  Structure.BelowGradeUnfinishedArea      11674 non-null   float64\n",
      " 44  Structure.Cooling                       101487 non-null  object \n",
      " 45  Structure.FireplacesTotal               51216 non-null   float64\n",
      " 46  Structure.GarageSpaces                  88621 non-null   float64\n",
      " 47  Structure.Heating                       104987 non-null  object \n",
      " 48  Structure.LivingArea                    99509 non-null   float64\n",
      " 49  Structure.NewConstructionYN             106344 non-null  object \n",
      " 50  Structure.ParkingFeatures               13557 non-null   object \n",
      " 51  Structure.Rooms.RoomsTotal              105061 non-null  float64\n",
      " 52  Structure.YearBuilt                     102256 non-null  float64\n",
      " 53  Tax.Zoning                              7498 non-null    object \n",
      " 54  UnitTypes.UnitTypeType                  4976 non-null    object \n",
      "dtypes: float64(24), object(31)\n",
      "memory usage: 45.1+ MB\n",
      "None\n",
      "\n",
      "Test Data:\n",
      "<class 'pandas.core.frame.DataFrame'>\n",
      "RangeIndex: 22039 entries, 0 to 22038\n",
      "Data columns (total 54 columns):\n",
      " #   Column                                  Non-Null Count  Dtype  \n",
      "---  ------                                  --------------  -----  \n",
      " 0   Characteristics.LotFeatures             8989 non-null   object \n",
      " 1   Characteristics.LotSizeSquareFeet       274 non-null    float64\n",
      " 2   ImageData.c1c6.summary.bathroom         19387 non-null  float64\n",
      " 3   ImageData.c1c6.summary.exterior         17476 non-null  float64\n",
      " 4   ImageData.c1c6.summary.interior         19804 non-null  float64\n",
      " 5   ImageData.c1c6.summary.kitchen          19644 non-null  float64\n",
      " 6   ImageData.c1c6.summary.property         21022 non-null  float64\n",
      " 7   ImageData.features_reso.results         21418 non-null  object \n",
      " 8   ImageData.q1q6.summary.bathroom         19385 non-null  float64\n",
      " 9   ImageData.q1q6.summary.exterior         16232 non-null  float64\n",
      " 10  ImageData.q1q6.summary.interior         19806 non-null  float64\n",
      " 11  ImageData.q1q6.summary.kitchen          19644 non-null  float64\n",
      " 12  ImageData.q1q6.summary.property         20871 non-null  float64\n",
      " 13  ImageData.room_type_reso.results        21804 non-null  object \n",
      " 14  ImageData.style.exterior.summary.label  16432 non-null  object \n",
      " 15  ImageData.style.stories.summary.label   16635 non-null  object \n",
      " 16  Listing.Dates.CloseDate                 22039 non-null  object \n",
      " 17  Listing.ListingId                       22039 non-null  object \n",
      " 18  Location.Address.CensusBlock            20917 non-null  object \n",
      " 19  Location.Address.CensusTract            20917 non-null  object \n",
      " 20  Location.Address.City                   22039 non-null  object \n",
      " 21  Location.Address.CountyOrParish         21940 non-null  object \n",
      " 22  Location.Address.PostalCode             22039 non-null  object \n",
      " 23  Location.Address.PostalCodePlus4        714 non-null    object \n",
      " 24  Location.Address.StateOrProvince        22039 non-null  object \n",
      " 25  Location.Address.StreetDirectionPrefix  9818 non-null   object \n",
      " 26  Location.Address.StreetDirectionSuffix  132 non-null    object \n",
      " 27  Location.Address.StreetName             22038 non-null  object \n",
      " 28  Location.Address.StreetNumber           22037 non-null  object \n",
      " 29  Location.Address.StreetSuffix           21795 non-null  object \n",
      " 30  Location.Address.UnitNumber             4983 non-null   object \n",
      " 31  Location.Address.UnparsedAddress        22039 non-null  object \n",
      " 32  Location.Area.SubdivisionName           7732 non-null   object \n",
      " 33  Location.GIS.Latitude                   20917 non-null  float64\n",
      " 34  Location.GIS.Longitude                  20917 non-null  float64\n",
      " 35  Location.School.HighSchoolDistrict      21628 non-null  object \n",
      " 36  Property.PropertyType                   22039 non-null  object \n",
      " 37  Structure.Basement                      21253 non-null  object \n",
      " 38  Structure.BathroomsFull                 20743 non-null  float64\n",
      " 39  Structure.BathroomsHalf                 20742 non-null  float64\n",
      " 40  Structure.BedroomsTotal                 21629 non-null  float64\n",
      " 41  Structure.BelowGradeFinishedArea        3100 non-null   float64\n",
      " 42  Structure.BelowGradeUnfinishedArea      2528 non-null   float64\n",
      " 43  Structure.Cooling                       20952 non-null  object \n",
      " 44  Structure.FireplacesTotal               11057 non-null  float64\n",
      " 45  Structure.GarageSpaces                  18453 non-null  float64\n",
      " 46  Structure.Heating                       21600 non-null  object \n",
      " 47  Structure.LivingArea                    20625 non-null  float64\n",
      " 48  Structure.NewConstructionYN             21651 non-null  object \n",
      " 49  Structure.ParkingFeatures               2750 non-null   object \n",
      " 50  Structure.Rooms.RoomsTotal              21608 non-null  float64\n",
      " 51  Structure.YearBuilt                     20954 non-null  float64\n",
      " 52  Tax.Zoning                              1357 non-null   object \n",
      " 53  UnitTypes.UnitTypeType                  895 non-null    object \n",
      "dtypes: float64(23), object(31)\n",
      "memory usage: 9.1+ MB\n",
      "None\n",
      "Size of the dataset: 107437\n",
      "\n",
      "Train Data Head:\n",
      "                Characteristics.LotFeatures  \\\n",
      "0                                       NaN   \n",
      "1                                       NaN   \n",
      "2                                       NaN   \n",
      "3                                       NaN   \n",
      "4  ['horses allowed', 'paddock', 'pond(s)']   \n",
      "\n",
      "   Characteristics.LotSizeSquareFeet  ImageData.c1c6.summary.bathroom  \\\n",
      "0                             3200.0                              NaN   \n",
      "1                                NaN                              NaN   \n",
      "2                            18750.0                              NaN   \n",
      "3                                NaN                              NaN   \n",
      "4                                NaN                              NaN   \n",
      "\n",
      "   ImageData.c1c6.summary.exterior  ImageData.c1c6.summary.interior  \\\n",
      "0                              NaN                              NaN   \n",
      "1                              3.8                              3.7   \n",
      "2                              NaN                              NaN   \n",
      "3                              NaN                              NaN   \n",
      "4                              3.6                              NaN   \n",
      "\n",
      "   ImageData.c1c6.summary.kitchen  ImageData.c1c6.summary.property  \\\n",
      "0                             NaN                              NaN   \n",
      "1                             3.8                              3.8   \n",
      "2                             NaN                              NaN   \n",
      "3                             NaN                              NaN   \n",
      "4                             NaN                              3.6   \n",
      "\n",
      "                     ImageData.features_reso.results  \\\n",
      "0  ['Cooling.CeilingFans', 'Flooring.Carpet', 'Fl...   \n",
      "1  ['Appliances.GasRange', 'Appliances.Range', 'A...   \n",
      "2  ['Flooring.Carpet', 'ParkingFeatures.Garage', ...   \n",
      "3  ['CommunityFeatures.Lake', 'WaterfrontFeatures...   \n",
      "4  ['Appliances.Refrigerator', 'Appliances.Microw...   \n",
      "\n",
      "   ImageData.q1q6.summary.bathroom  ImageData.q1q6.summary.exterior  ...  \\\n",
      "0                              NaN                              NaN  ...   \n",
      "1                              NaN                              4.2  ...   \n",
      "2                              NaN                              NaN  ...   \n",
      "3                              NaN                              NaN  ...   \n",
      "4                              NaN                              4.2  ...   \n",
      "\n",
      "   Structure.FireplacesTotal  Structure.GarageSpaces  Structure.Heating  \\\n",
      "0                        NaN                     NaN                NaN   \n",
      "1                        NaN                     NaN    ['natural gas']   \n",
      "2                        NaN                     NaN                NaN   \n",
      "3                        NaN                     NaN                NaN   \n",
      "4                        NaN                     NaN          ['other']   \n",
      "\n",
      "  Structure.LivingArea Structure.NewConstructionYN  \\\n",
      "0                  NaN                       False   \n",
      "1               3175.0                       False   \n",
      "2                  NaN                       False   \n",
      "3                  NaN                       False   \n",
      "4                  0.0                       False   \n",
      "\n",
      "      Structure.ParkingFeatures Structure.Rooms.RoomsTotal  \\\n",
      "0                           NaN                        NaN   \n",
      "1                 ['off alley']                        6.0   \n",
      "2                           NaN                        NaN   \n",
      "3                           NaN                        NaN   \n",
      "4  ['unassigned', 'off street']                        4.0   \n",
      "\n",
      "  Structure.YearBuilt  Tax.Zoning UnitTypes.UnitTypeType  \n",
      "0                 0.0       commr                    NaN  \n",
      "1                 NaN         NaN                    NaN  \n",
      "2              1926.0       commr                    NaN  \n",
      "3                 NaN       agric                    NaN  \n",
      "4              2006.0         NaN                    NaN  \n",
      "\n",
      "[5 rows x 55 columns]\n",
      "\n",
      "Test Data Head:\n",
      "                        Characteristics.LotFeatures  \\\n",
      "0                                               NaN   \n",
      "1                                               NaN   \n",
      "2                                               NaN   \n",
      "3                                               NaN   \n",
      "4  ['fenced yard', 'golf course lot', 'landscaped']   \n",
      "\n",
      "   Characteristics.LotSizeSquareFeet  ImageData.c1c6.summary.bathroom  \\\n",
      "0                             8640.0                              2.0   \n",
      "1                            13937.0                              NaN   \n",
      "2                                NaN                              3.3   \n",
      "3                             2500.0                              NaN   \n",
      "4                                NaN                              3.9   \n",
      "\n",
      "   ImageData.c1c6.summary.exterior  ImageData.c1c6.summary.interior  \\\n",
      "0                              3.3                              2.2   \n",
      "1                              NaN                              NaN   \n",
      "2                              3.1                              3.1   \n",
      "3                              NaN                              NaN   \n",
      "4                              3.6                              4.0   \n",
      "\n",
      "   ImageData.c1c6.summary.kitchen  ImageData.c1c6.summary.property  \\\n",
      "0                             2.0                              2.3   \n",
      "1                             NaN                              NaN   \n",
      "2                             2.9                              3.1   \n",
      "3                             NaN                              NaN   \n",
      "4                             4.0                              3.9   \n",
      "\n",
      "                     ImageData.features_reso.results  \\\n",
      "0  ['Appliances.Dishwasher', 'Appliances.Microwav...   \n",
      "1                                                NaN   \n",
      "2  ['Appliances.GasRange', 'Appliances.IceMaker',...   \n",
      "3  ['Appliances.Cooktop', 'Appliances.GasCooktop'...   \n",
      "4  ['Appliances.GasWaterHeater', 'Appliances.Refr...   \n",
      "\n",
      "   ImageData.q1q6.summary.bathroom  ImageData.q1q6.summary.exterior  ...  \\\n",
      "0                              2.8                              3.1  ...   \n",
      "1                              NaN                              NaN  ...   \n",
      "2                              3.4                              3.8  ...   \n",
      "3                              NaN                              NaN  ...   \n",
      "4                              3.9                              3.7  ...   \n",
      "\n",
      "   Structure.FireplacesTotal  Structure.GarageSpaces  \\\n",
      "0                        NaN                     NaN   \n",
      "1                        NaN                     NaN   \n",
      "2                        NaN                     NaN   \n",
      "3                        NaN                     NaN   \n",
      "4                        4.0                     5.0   \n",
      "\n",
      "               Structure.Heating Structure.LivingArea  \\\n",
      "0                            NaN                  NaN   \n",
      "1                            NaN                  NaN   \n",
      "2                            NaN                  NaN   \n",
      "3                            NaN                  NaN   \n",
      "4  ['natural gas', 'forced air']               8960.0   \n",
      "\n",
      "  Structure.NewConstructionYN Structure.ParkingFeatures  \\\n",
      "0                         NaN                       NaN   \n",
      "1                         NaN                       NaN   \n",
      "2                         NaN                       NaN   \n",
      "3                         NaN                       NaN   \n",
      "4                       False                       NaN   \n",
      "\n",
      "  Structure.Rooms.RoomsTotal Structure.YearBuilt Tax.Zoning  \\\n",
      "0                        NaN              1899.0      commr   \n",
      "1                        NaN              1970.0      commr   \n",
      "2                        NaN                 NaN      singl   \n",
      "3                        NaN              2003.0      offic   \n",
      "4                       17.0              2008.0        NaN   \n",
      "\n",
      "  UnitTypes.UnitTypeType  \n",
      "0                    NaN  \n",
      "1                    NaN  \n",
      "2                    NaN  \n",
      "3                    NaN  \n",
      "4                    NaN  \n",
      "\n",
      "[5 rows x 54 columns]\n"
     ]
    }
   ],
   "source": [
    "# Display basic information\n",
    "print(\"Train Data:\")\n",
    "print(train_data.info())\n",
    "print(\"\\nTest Data:\")\n",
    "print(test_data.info())\n",
    "\n",
    "# Preview the first few rows of the train and test datasets\n",
    "n = len(train_data)\n",
    "print(f\"Size of the dataset: {n}\")\n",
    "\n",
    "print(\"\\nTrain Data Head:\")\n",
    "print(train_data.head())\n",
    "\n",
    "print(\"\\nTest Data Head:\")\n",
    "print(test_data.head())\n"
   ]
  },
  {
   "cell_type": "markdown",
   "metadata": {},
   "source": [
    "# DATA CLEANING AND PROCESSING"
   ]
  },
  {
   "cell_type": "markdown",
   "metadata": {},
   "source": [
    "## 1. DROPPING UNNECESSARY COLUMNS "
   ]
  },
  {
   "cell_type": "code",
   "execution_count": 3,
   "metadata": {},
   "outputs": [
    {
     "name": "stdout",
     "output_type": "stream",
     "text": [
      "28\n"
     ]
    }
   ],
   "source": [
    "cleaned_train_data = train_data.copy()\n",
    "cleaned_train_data = cleaned_train_data.drop(columns=[\"Listing.ListingId\", 'Location.Address.PostalCodePlus4', 'Location.Address.UnparsedAddress', 'Location.Address.CensusBlock', 'Location.Address.CensusTract', 'Location.Address.StreetDirectionPrefix','Location.Address.StreetDirectionSuffix', 'Location.Address.StreetNumber', 'Characteristics.LotFeatures', 'Listing.Dates.CloseDate', 'Location.Address.StateOrProvince', 'Location.GIS.Latitude', 'Location.GIS.Longitude', 'Location.Address.UnitNumber', 'Characteristics.LotSizeSquareFeet', 'Location.Area.SubdivisionName', 'Location.School.HighSchoolDistrict', 'Structure.BelowGradeFinishedArea', 'Structure.BelowGradeUnfinishedArea', 'Structure.ParkingFeatures', 'Tax.Zoning', 'UnitTypes.UnitTypeType', 'Location.Address.City', 'Location.Address.CountyOrParish', 'ImageData.style.exterior.summary.label', 'Location.Address.StreetName', 'Structure.Heating'])\n",
    "print(len(cleaned_train_data.columns))"
   ]
  },
  {
   "cell_type": "markdown",
   "metadata": {},
   "source": [
    "### 2. DROPPING ROWS WITH FEW FEATURES DEFINED \n"
   ]
  },
  {
   "cell_type": "code",
   "execution_count": 4,
   "metadata": {},
   "outputs": [
    {
     "name": "stdout",
     "output_type": "stream",
     "text": [
      "Number of rows with fewer than 20 non-null features: 6687\n",
      "Dataset shape after removal: (100750, 28)\n"
     ]
    }
   ],
   "source": [
    "# Find rows with less than 10 non-null features\n",
    "rows_with_few_features = cleaned_train_data[cleaned_train_data.notnull().sum(axis=1) < 20]\n",
    "\n",
    "# Print rows with fewer than 10 non-null features (optional)\n",
    "print(f\"Number of rows with fewer than 20 non-null features: {len(rows_with_few_features)}\")\n",
    "\n",
    "# Remove these rows from the dataset\n",
    "cleaned_train_data = cleaned_train_data[cleaned_train_data.notnull().sum(axis=1) >= 20]\n",
    "\n",
    "# Verify the new dataset shape\n",
    "print(f\"Dataset shape after removal: {cleaned_train_data.shape}\")"
   ]
  },
  {
   "cell_type": "markdown",
   "metadata": {},
   "source": [
    "### CONVERTING CATEGORICAL FEATURES TO NUMERICAL AND HANDLING NULL VALUES"
   ]
  },
  {
   "cell_type": "code",
   "execution_count": 5,
   "metadata": {},
   "outputs": [],
   "source": [
    "# We convert this numerical featuer first because we will need values of a categoricak features, otherwise we'd loose that information\n",
    "\n",
    "# Convert `Structure.FireplacesTotal` to binary (1 if >0, 0 if 0 or NaN)\n",
    "cleaned_train_data[\"Structure.FireplacesTotal\"] = cleaned_train_data[\"Structure.FireplacesTotal\"].apply(lambda x: 1 if pd.notnull(x) and x > 0 else 0)\n",
    "\n",
    "# Identify houses with \"fireplace\" in `ImageData.features_reso.results`\n",
    "def has_fireplace(features):\n",
    "    if isinstance(features, list):  # Ensure it's a list\n",
    "        return any(\"fireplace\" in feature.lower() for feature in features)\n",
    "    return False\n",
    "\n",
    "cleaned_train_data[\"HasFireplaceFromImage\"] = cleaned_train_data[\"ImageData.features_reso.results\"].apply(has_fireplace)\n",
    "\n",
    "# Update `Structure.FireplacesTotal` based on `HasFireplaceFromImage`\n",
    "cleaned_train_data[\"Structure.FireplacesTotal\"] = cleaned_train_data.apply(\n",
    "    lambda row: 1 if row[\"HasFireplaceFromImage\"] and row[\"Structure.FireplacesTotal\"] == 0 else row[\"Structure.FireplacesTotal\"],\n",
    "    axis=1\n",
    ")\n",
    "\n",
    "# Drop the temporary column \n",
    "cleaned_train_data.drop(columns=[\"HasFireplaceFromImage\"], inplace=True)"
   ]
  },
  {
   "cell_type": "code",
   "execution_count": 6,
   "metadata": {},
   "outputs": [],
   "source": [
    "import ast\n",
    "\n",
    "# Convert string representations of lists to actual lists\n",
    "cleaned_train_data['ImageData.features_reso.results'] = cleaned_train_data['ImageData.features_reso.results'].apply(\n",
    "    lambda x: ast.literal_eval(x) if isinstance(x, str) else x\n",
    ")\n",
    "\n",
    "# Fill missing values with empty lists\n",
    "cleaned_train_data['ImageData.features_reso.results'] = cleaned_train_data['ImageData.features_reso.results'].apply(\n",
    "    lambda x: x if isinstance(x, list) else []\n",
    ")\n",
    "\n",
    "# Modify the column to contain the count of features\n",
    "cleaned_train_data['ImageData.features_reso.results'] = cleaned_train_data['ImageData.features_reso.results'].apply(len)\n",
    "\n"
   ]
  },
  {
   "cell_type": "code",
   "execution_count": 7,
   "metadata": {},
   "outputs": [],
   "source": [
    "# List of columns to process\n",
    "columns_to_process = [\n",
    "    'ImageData.c1c6.summary.bathroom',\n",
    "    'ImageData.c1c6.summary.exterior',\n",
    "    'ImageData.c1c6.summary.interior',\n",
    "    'ImageData.c1c6.summary.kitchen',\n",
    "    'ImageData.c1c6.summary.property',\n",
    "    'ImageData.q1q6.summary.bathroom', \n",
    "    'ImageData.q1q6.summary.exterior',\n",
    "    'ImageData.q1q6.summary.interior', \n",
    "    'ImageData.q1q6.summary.kitchen',\n",
    "    'ImageData.q1q6.summary.property'\n",
    "    \n",
    "]\n",
    "\n",
    "# Impute missing values with the median\n",
    "for col in columns_to_process:    \n",
    "    median_value = cleaned_train_data[col].median()\n",
    "    cleaned_train_data[col] = cleaned_train_data[col].fillna(median_value)"
   ]
  },
  {
   "cell_type": "code",
   "execution_count": 8,
   "metadata": {},
   "outputs": [],
   "source": [
    "# Convert string representations of lists to actual lists\n",
    "cleaned_train_data['ImageData.room_type_reso.results'] = cleaned_train_data['ImageData.room_type_reso.results'].apply(\n",
    "    lambda x: ast.literal_eval(x) if isinstance(x, str) else x\n",
    ")\n",
    "\n",
    "# Modify the column to contain the count of features\n",
    "cleaned_train_data['ImageData.room_type_reso.results'] = cleaned_train_data['ImageData.room_type_reso.results'].apply(len)\n",
    "\n"
   ]
  },
  {
   "cell_type": "code",
   "execution_count": 9,
   "metadata": {},
   "outputs": [
    {
     "name": "stderr",
     "output_type": "stream",
     "text": [
      "C:\\Users\\Usuario\\AppData\\Local\\Temp\\ipykernel_16792\\3957180331.py:3: FutureWarning: A value is trying to be set on a copy of a DataFrame or Series through chained assignment using an inplace method.\n",
      "The behavior will change in pandas 3.0. This inplace method will never work because the intermediate object on which we are setting values always behaves as a copy.\n",
      "\n",
      "For example, when doing 'df[col].method(value, inplace=True)', try using 'df.method({col: value}, inplace=True)' or df[col] = df[col].method(value) instead, to perform the operation inplace on the original object.\n",
      "\n",
      "\n",
      "  cleaned_train_data['Location.Address.StreetSuffix'].fillna(mode_value, inplace=True)\n"
     ]
    }
   ],
   "source": [
    "# Fill missing values with the mode\n",
    "mode_value = cleaned_train_data['Location.Address.StreetSuffix'].mode()[0]\n",
    "cleaned_train_data['Location.Address.StreetSuffix'].fillna(mode_value, inplace=True)\n",
    "\n",
    "# Define a mapping from street types to price-impact-based categories\n",
    "mapping = {\n",
    "    'street': 'Residential',\n",
    "    'road': 'Residential',\n",
    "    'court': 'Residential',\n",
    "    'avenue': 'Prestigious',\n",
    "    'drive': 'Residential',\n",
    "    'circle': 'Residential',\n",
    "    'place': 'Residential',\n",
    "    'lane': 'Residential',\n",
    "    'way': 'Residential',\n",
    "    'trail': 'Pathway/Rural',\n",
    "    'boulevard': 'Prestigious',\n",
    "    'pass': 'Functional/Neutral',\n",
    "    'parkway': 'Prestigious',\n",
    "    'cove': 'Pathway/Rural',\n",
    "    'terrace': 'Residential',\n",
    "    'highway': 'Functional/Neutral',\n",
    "    'point': 'Pathway/Rural',\n",
    "    'course': 'Pathway/Rural',\n",
    "    'crossing': 'Pathway/Rural',\n",
    "    'loop': 'Pathway/Rural',\n",
    "    'square': 'Prestigious',\n",
    "    'plaza': 'Prestigious',\n",
    "    'bend': 'Functional/Neutral',\n",
    "}\n",
    "\n",
    "cleaned_train_data['Location.Address.StreetSuffix'] = cleaned_train_data['Location.Address.StreetSuffix'].map(mapping)\n",
    "cleaned_train_data_encoded = pd.get_dummies(cleaned_train_data['Location.Address.StreetSuffix'], prefix='Street_Type')\n",
    "cleaned_train_data = pd.concat([cleaned_train_data, cleaned_train_data_encoded], axis=1)\n",
    "cleaned_train_data = cleaned_train_data.drop(columns=[\"Location.Address.StreetSuffix\"])"
   ]
  },
  {
   "cell_type": "code",
   "execution_count": 10,
   "metadata": {},
   "outputs": [
    {
     "name": "stderr",
     "output_type": "stream",
     "text": [
      "C:\\Users\\Usuario\\AppData\\Local\\Temp\\ipykernel_16792\\762552045.py:6: FutureWarning: A value is trying to be set on a copy of a DataFrame or Series through chained assignment using an inplace method.\n",
      "The behavior will change in pandas 3.0. This inplace method will never work because the intermediate object on which we are setting values always behaves as a copy.\n",
      "\n",
      "For example, when doing 'df[col].method(value, inplace=True)', try using 'df.method({col: value}, inplace=True)' or df[col] = df[col].method(value) instead, to perform the operation inplace on the original object.\n",
      "\n",
      "\n",
      "  cleaned_train_data['Structure.GarageSpaces'].fillna(global_median, inplace=True)\n"
     ]
    }
   ],
   "source": [
    "# Fill missing values within groups by the median of the respective group\n",
    "cleaned_train_data['Structure.GarageSpaces'] = cleaned_train_data.groupby('Property.PropertyType')['Structure.GarageSpaces'].transform(lambda x: x.fillna(x.median()))\n",
    "\n",
    "# Fill any remaining NaN values with the global median (if any group had no data to compute the median)\n",
    "global_median = cleaned_train_data['Structure.GarageSpaces'].median()\n",
    "cleaned_train_data['Structure.GarageSpaces'].fillna(global_median, inplace=True)"
   ]
  },
  {
   "cell_type": "code",
   "execution_count": 11,
   "metadata": {},
   "outputs": [],
   "source": [
    "# Apply One-Hot Encoding to 'Property.PropertyType'\n",
    "encoded_property_type = pd.get_dummies(cleaned_train_data['Property.PropertyType'], prefix='Property_Type')\n",
    "\n",
    "# Concatenate the encoded columns with the original DataFrame\n",
    "cleaned_train_data = pd.concat([cleaned_train_data, encoded_property_type], axis=1)\n"
   ]
  },
  {
   "cell_type": "code",
   "execution_count": 12,
   "metadata": {},
   "outputs": [],
   "source": [
    "def transform_basement(row):\n",
    "    if pd.notnull(row['Structure.Basement']):\n",
    "        if 'none' in row['Structure.Basement']:\n",
    "            return 0\n",
    "        return 1\n",
    "    else:\n",
    "        # Check if 'ImageData.room_type_reso.results' is not null and is a list\n",
    "        if pd.notnull(row['ImageData.room_type_reso.results']) and isinstance(row['ImageData.room_type_reso.results'], list):           \n",
    "            if 'basement' in row['ImageData.room_type_reso.results']:\n",
    "                return 1\n",
    "    # If no basement found in both columns, return 0\n",
    "    return 0\n",
    "\n",
    "cleaned_train_data['Structure.Basement'] = cleaned_train_data.apply(transform_basement, axis=1)\n"
   ]
  },
  {
   "cell_type": "code",
   "execution_count": 13,
   "metadata": {},
   "outputs": [
    {
     "name": "stderr",
     "output_type": "stream",
     "text": [
      "C:\\Users\\Usuario\\AppData\\Local\\Temp\\ipykernel_16792\\3594869677.py:3: FutureWarning: A value is trying to be set on a copy of a DataFrame or Series through chained assignment using an inplace method.\n",
      "The behavior will change in pandas 3.0. This inplace method will never work because the intermediate object on which we are setting values always behaves as a copy.\n",
      "\n",
      "For example, when doing 'df[col].method(value, inplace=True)', try using 'df.method({col: value}, inplace=True)' or df[col] = df[col].method(value) instead, to perform the operation inplace on the original object.\n",
      "\n",
      "\n",
      "  cleaned_train_data['Structure.BathroomsFull'].fillna(median_full, inplace=True)\n",
      "C:\\Users\\Usuario\\AppData\\Local\\Temp\\ipykernel_16792\\3594869677.py:6: FutureWarning: A value is trying to be set on a copy of a DataFrame or Series through chained assignment using an inplace method.\n",
      "The behavior will change in pandas 3.0. This inplace method will never work because the intermediate object on which we are setting values always behaves as a copy.\n",
      "\n",
      "For example, when doing 'df[col].method(value, inplace=True)', try using 'df.method({col: value}, inplace=True)' or df[col] = df[col].method(value) instead, to perform the operation inplace on the original object.\n",
      "\n",
      "\n",
      "  cleaned_train_data['Structure.BathroomsHalf'].fillna(median_half, inplace=True)\n"
     ]
    }
   ],
   "source": [
    "# Handle missing values: Impute with median\n",
    "median_full = cleaned_train_data['Structure.BathroomsFull'].median()\n",
    "cleaned_train_data['Structure.BathroomsFull'].fillna(median_full, inplace=True)\n",
    "\n",
    "median_half = cleaned_train_data['Structure.BathroomsHalf'].median()\n",
    "cleaned_train_data['Structure.BathroomsHalf'].fillna(median_half, inplace=True)\n",
    "\n",
    "# Create TotalBathrooms feature\n",
    "cleaned_train_data['TotalBathrooms'] = (\n",
    "    cleaned_train_data['Structure.BathroomsFull'] +\n",
    "    0.5 * cleaned_train_data['Structure.BathroomsHalf']\n",
    ")\n",
    "\n",
    "# Drop original columns\n",
    "cleaned_train_data.drop(columns=['Structure.BathroomsFull', 'Structure.BathroomsHalf'], inplace=True)"
   ]
  },
  {
   "cell_type": "code",
   "execution_count": 14,
   "metadata": {},
   "outputs": [
    {
     "name": "stderr",
     "output_type": "stream",
     "text": [
      "C:\\Users\\Usuario\\AppData\\Local\\Temp\\ipykernel_16792\\4186744969.py:3: FutureWarning: A value is trying to be set on a copy of a DataFrame or Series through chained assignment using an inplace method.\n",
      "The behavior will change in pandas 3.0. This inplace method will never work because the intermediate object on which we are setting values always behaves as a copy.\n",
      "\n",
      "For example, when doing 'df[col].method(value, inplace=True)', try using 'df.method({col: value}, inplace=True)' or df[col] = df[col].method(value) instead, to perform the operation inplace on the original object.\n",
      "\n",
      "\n",
      "  cleaned_train_data['Structure.BedroomsTotal'].fillna(median_bedrooms, inplace=True)\n"
     ]
    }
   ],
   "source": [
    "# Handle missing values: Impute with median\n",
    "median_bedrooms = cleaned_train_data['Structure.BedroomsTotal'].median()\n",
    "cleaned_train_data['Structure.BedroomsTotal'].fillna(median_bedrooms, inplace=True)"
   ]
  },
  {
   "cell_type": "code",
   "execution_count": 15,
   "metadata": {},
   "outputs": [],
   "source": [
    "def transform_cooling(row):\n",
    "    if pd.notnull(row['Structure.Cooling']):\n",
    "        if 'none' in row['Structure.Cooling']:\n",
    "            return 0\n",
    "        return 1\n",
    "    else:\n",
    "        if pd.notnull(row['ImageData.features_reso.results']) and isinstance(row['ImageData.features_reso.results'], list):           \n",
    "            if 'cooling' in row['ImageData.features_reso.results']:\n",
    "                return 1\n",
    "    # If no basement found in both columns, return 0\n",
    "    return 0\n",
    "\n",
    "cleaned_train_data['Structure.Cooling'] = cleaned_train_data.apply(transform_cooling, axis=1)"
   ]
  },
  {
   "cell_type": "code",
   "execution_count": 16,
   "metadata": {},
   "outputs": [
    {
     "name": "stderr",
     "output_type": "stream",
     "text": [
      "C:\\Users\\Usuario\\AppData\\Local\\Temp\\ipykernel_16792\\3003458804.py:2: FutureWarning: A value is trying to be set on a copy of a DataFrame or Series through chained assignment using an inplace method.\n",
      "The behavior will change in pandas 3.0. This inplace method will never work because the intermediate object on which we are setting values always behaves as a copy.\n",
      "\n",
      "For example, when doing 'df[col].method(value, inplace=True)', try using 'df.method({col: value}, inplace=True)' or df[col] = df[col].method(value) instead, to perform the operation inplace on the original object.\n",
      "\n",
      "\n",
      "  cleaned_train_data['Structure.LivingArea'].fillna(mean_living_area, inplace=True)\n"
     ]
    }
   ],
   "source": [
    "mean_living_area = cleaned_train_data['Structure.LivingArea'].mean()\n",
    "cleaned_train_data['Structure.LivingArea'].fillna(mean_living_area, inplace=True)"
   ]
  },
  {
   "cell_type": "code",
   "execution_count": 17,
   "metadata": {},
   "outputs": [],
   "source": [
    "# Function to impute missing values in 'Structure.NewConstructionYN' based on the year of construction\n",
    "def impute_new_construction(row):\n",
    "    if pd.isnull(row['Structure.NewConstructionYN']):\n",
    "        # Impute based on 'Structure.YearBuilt'\n",
    "        if row['Structure.YearBuilt'] > 2020:\n",
    "            return True\n",
    "        else:\n",
    "            return False \n",
    "    return row['Structure.NewConstructionYN']  # If not null, return the existing value\n",
    "\n",
    "# Apply the function to impute missing values\n",
    "cleaned_train_data['Structure.NewConstructionYN'] = cleaned_train_data.apply(impute_new_construction, axis=1)"
   ]
  },
  {
   "cell_type": "code",
   "execution_count": 18,
   "metadata": {},
   "outputs": [
    {
     "name": "stderr",
     "output_type": "stream",
     "text": [
      "C:\\Users\\Usuario\\AppData\\Local\\Temp\\ipykernel_16792\\853658139.py:2: FutureWarning: A value is trying to be set on a copy of a DataFrame or Series through chained assignment using an inplace method.\n",
      "The behavior will change in pandas 3.0. This inplace method will never work because the intermediate object on which we are setting values always behaves as a copy.\n",
      "\n",
      "For example, when doing 'df[col].method(value, inplace=True)', try using 'df.method({col: value}, inplace=True)' or df[col] = df[col].method(value) instead, to perform the operation inplace on the original object.\n",
      "\n",
      "\n",
      "  cleaned_train_data['Structure.YearBuilt'].fillna(median_year, inplace=True)\n"
     ]
    }
   ],
   "source": [
    "median_year = cleaned_train_data['Structure.YearBuilt'].median()\n",
    "cleaned_train_data['Structure.YearBuilt'].fillna(median_year, inplace=True)\n",
    "current_year = 2024\n",
    "cleaned_train_data['PropertyAge'] = current_year - cleaned_train_data['Structure.YearBuilt']\n",
    "cleaned_train_data = cleaned_train_data.drop(columns=['Structure.YearBuilt'])"
   ]
  },
  {
   "cell_type": "code",
   "execution_count": 19,
   "metadata": {},
   "outputs": [],
   "source": [
    "# Mapping function to convert story labels to numeric values\n",
    "def map_stories_to_numeric(value):\n",
    "    if pd.isnull(value):\n",
    "        return value  # Keep the NaN value\n",
    "    elif value == '1_story':\n",
    "        return 1\n",
    "    elif value == '2_stories':\n",
    "        return 2\n",
    "    elif value == '3_stories_or_more':\n",
    "        return 3\n",
    "    elif value == '1.5_stories':\n",
    "        return 1.5\n",
    "    elif value == '2.5_stories':\n",
    "        return 2.5\n",
    "\n",
    "cleaned_train_data['ImageData.style.stories.summary.label'] = cleaned_train_data['ImageData.style.stories.summary.label'].apply(map_stories_to_numeric)\n",
    "\n",
    "# Fill null values with the median of the column\n",
    "median_value = cleaned_train_data['ImageData.style.stories.summary.label'].median()\n",
    "cleaned_train_data['ImageData.style.stories.summary.label'] = cleaned_train_data['ImageData.style.stories.summary.label'].fillna(median_value)"
   ]
  },
  {
   "cell_type": "code",
   "execution_count": 20,
   "metadata": {},
   "outputs": [],
   "source": [
    "cleaned_train_data['Structure.Rooms.RoomsTotal'] = cleaned_train_data['Structure.Rooms.RoomsTotal'].fillna(\n",
    "    cleaned_train_data['Structure.BedroomsTotal'] + \n",
    "    cleaned_train_data['TotalBathrooms'] + \n",
    "    2  # Add 1 for common areas (e.g., kitchen, living room)\n",
    ")"
   ]
  }
 ],
 "metadata": {
  "kernelspec": {
   "display_name": "base",
   "language": "python",
   "name": "python3"
  },
  "language_info": {
   "codemirror_mode": {
    "name": "ipython",
    "version": 3
   },
   "file_extension": ".py",
   "mimetype": "text/x-python",
   "name": "python",
   "nbconvert_exporter": "python",
   "pygments_lexer": "ipython3",
   "version": "3.12.3"
  }
 },
 "nbformat": 4,
 "nbformat_minor": 2
}
